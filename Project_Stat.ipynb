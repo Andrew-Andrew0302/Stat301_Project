{
 "cells": [
  {
   "cell_type": "markdown",
   "id": "91e10b9b-2f4a-48ce-915e-fc058cc14f6b",
   "metadata": {},
   "source": [
    "### Adult Dataset\n",
    "\n",
    "The Adult Census Income dataset consists of demographic information about individuals. This data was extracted from the 1994 Census bureau database by Ronny Kohavi and Barry Becker (Data Mining and Visualization, Silicon Graphics) and in addition, this specific dataset is downloaded from kaggle. This dataset includes multiple variables that could potentially influence income, which is the target variable. Here’s a summary of the variables:\n",
    "\n",
    "- Age: The age of the individual\n",
    "\n",
    "- Workclass: Type of WorkSector\n",
    "\n",
    "- fnlwgt: weighted tallies of any specified socio-economic characteristics of the population.\n",
    "\n",
    "- education: Education Level (Categorical)\n",
    "\n",
    "- Education.num: Education-level (numeric)\n",
    "\n",
    "- Martial.status: Martial Status of that individual\n",
    "\n",
    "- Occupation: Current job of that individual\n",
    "\n",
    "- Relationship: Relationship Status of that individual\n",
    "\n",
    "- Race: Race of that individual\n",
    "\n",
    "- Sex: Gender of that individual\n",
    "\n",
    "- Capital.gain: Capital gains (Additional income from income)\n",
    "\n",
    "- Capital.loss: Capital losses\n",
    "\n",
    "- Hours.per.week: Hours per week an individual works for\n",
    "\n",
    "- Native.country: Country of origin for that individual\n",
    "\n",
    "- Income: Income category indicating if the individual earns more or less than $50K\n",
    "\n",
    "It seems like there are 32651 rows and 15 columns which is a pretty good size for an analysis. Some variables also contain \"?\" which indicate missing values on some rows. "
   ]
  },
  {
   "cell_type": "markdown",
   "id": "c8e4b1a3-555a-4d49-9015-cc5781be4b4c",
   "metadata": {},
   "source": [
    "### Question Of Interest\n",
    "\n",
    "Is there a significant income disparity between male and female individuals, and how do other factors like occupation and hours worked per week influence this disparity?\n",
    "\n",
    "Response Variable: Income\n",
    "\n",
    "Explanatory Variables:\n",
    "\n",
    "- sex: This variable directly addresses gender differences in income.\n",
    "- occupation: Some occupations might have different earning potential based on gender.\n",
    "- hours.per.week: Examining if hours worked per week contribute to income disparities between genders.\n",
    "\n",
    "\n",
    "This question focuses on inference to understand the factors influencing gender-based income disparities, providing insights into whether these disparities persist across occupations and work hours."
   ]
  },
  {
   "cell_type": "markdown",
   "id": "a3496bd9-c9bc-4d81-bfe9-10e8de7f775f",
   "metadata": {},
   "source": [
    "### Importing Libraries"
   ]
  },
  {
   "cell_type": "code",
   "execution_count": 1,
   "id": "dba74550-1125-4dd7-9c23-2a8fe138decf",
   "metadata": {},
   "outputs": [
    {
     "name": "stderr",
     "output_type": "stream",
     "text": [
      "── \u001b[1mAttaching core tidyverse packages\u001b[22m ──────────────────────── tidyverse 2.0.0 ──\n",
      "\u001b[32m✔\u001b[39m \u001b[34mdplyr    \u001b[39m 1.1.4     \u001b[32m✔\u001b[39m \u001b[34mreadr    \u001b[39m 2.1.5\n",
      "\u001b[32m✔\u001b[39m \u001b[34mforcats  \u001b[39m 1.0.0     \u001b[32m✔\u001b[39m \u001b[34mstringr  \u001b[39m 1.5.1\n",
      "\u001b[32m✔\u001b[39m \u001b[34mggplot2  \u001b[39m 3.5.1     \u001b[32m✔\u001b[39m \u001b[34mtibble   \u001b[39m 3.2.1\n",
      "\u001b[32m✔\u001b[39m \u001b[34mlubridate\u001b[39m 1.9.3     \u001b[32m✔\u001b[39m \u001b[34mtidyr    \u001b[39m 1.3.1\n",
      "\u001b[32m✔\u001b[39m \u001b[34mpurrr    \u001b[39m 1.0.2     \n",
      "── \u001b[1mConflicts\u001b[22m ────────────────────────────────────────── tidyverse_conflicts() ──\n",
      "\u001b[31m✖\u001b[39m \u001b[34mdplyr\u001b[39m::\u001b[32mfilter()\u001b[39m masks \u001b[34mstats\u001b[39m::filter()\n",
      "\u001b[31m✖\u001b[39m \u001b[34mdplyr\u001b[39m::\u001b[32mlag()\u001b[39m    masks \u001b[34mstats\u001b[39m::lag()\n",
      "\u001b[36mℹ\u001b[39m Use the conflicted package (\u001b[3m\u001b[34m<http://conflicted.r-lib.org/>\u001b[39m\u001b[23m) to force all conflicts to become errors\n",
      "\n",
      "Attaching package: ‘cowplot’\n",
      "\n",
      "\n",
      "The following object is masked from ‘package:lubridate’:\n",
      "\n",
      "    stamp\n",
      "\n",
      "\n",
      "Loading required package: Matrix\n",
      "\n",
      "\n",
      "Attaching package: ‘Matrix’\n",
      "\n",
      "\n",
      "The following objects are masked from ‘package:tidyr’:\n",
      "\n",
      "    expand, pack, unpack\n",
      "\n",
      "\n",
      "Loaded glmnet 4.1-8\n",
      "\n"
     ]
    }
   ],
   "source": [
    "library(tidyverse)\n",
    "library(repr)\n",
    "library(infer)\n",
    "library(cowplot)\n",
    "library(broom)\n",
    "library(ggplot2)\n",
    "library(leaps)\n",
    "library(glmnet)"
   ]
  },
  {
   "cell_type": "code",
   "execution_count": 2,
   "id": "cdc375e1-518d-49c0-8179-ef42a3284c79",
   "metadata": {},
   "outputs": [
    {
     "ename": "ERROR",
     "evalue": "Error: 'data/adult.csv' does not exist in current working directory ('/home/jovyan/work/Stat301_Project').\n",
     "output_type": "error",
     "traceback": [
      "Error: 'data/adult.csv' does not exist in current working directory ('/home/jovyan/work/Stat301_Project').\nTraceback:\n",
      "1. read_csv(\"data/adult.csv\")",
      "2. vroom::vroom(file, delim = \",\", col_names = col_names, col_types = col_types, \n .     col_select = {\n .         {\n .             col_select\n .         }\n .     }, id = id, .name_repair = name_repair, skip = skip, n_max = n_max, \n .     na = na, quote = quote, comment = comment, skip_empty_rows = skip_empty_rows, \n .     trim_ws = trim_ws, escape_double = TRUE, escape_backslash = FALSE, \n .     locale = locale, guess_max = guess_max, show_col_types = show_col_types, \n .     progress = progress, altrep = lazy, num_threads = num_threads)",
      "3. vroom_(file, delim = delim %||% col_types$delim, col_names = col_names, \n .     col_types = col_types, id = id, skip = skip, col_select = col_select, \n .     name_repair = .name_repair, na = na, quote = quote, trim_ws = trim_ws, \n .     escape_double = escape_double, escape_backslash = escape_backslash, \n .     comment = comment, skip_empty_rows = skip_empty_rows, locale = locale, \n .     guess_max = guess_max, n_max = n_max, altrep = vroom_altrep(altrep), \n .     num_threads = num_threads, progress = progress)",
      "4. (function (path, write = FALSE) \n . {\n .     if (is.raw(path)) {\n .         return(rawConnection(path, \"rb\"))\n .     }\n .     if (!is.character(path)) {\n .         return(path)\n .     }\n .     if (is_url(path)) {\n .         if (requireNamespace(\"curl\", quietly = TRUE)) {\n .             con <- curl::curl(path)\n .         }\n .         else {\n .             inform(\"`curl` package not installed, falling back to using `url()`\")\n .             con <- url(path)\n .         }\n .         ext <- tolower(tools::file_ext(path))\n .         return(switch(ext, zip = , bz2 = , xz = {\n .             close(con)\n .             stop(\"Reading from remote `\", ext, \"` compressed files is not supported,\\n\", \n .                 \"  download the files locally first.\", call. = FALSE)\n .         }, gz = gzcon(con), con))\n .     }\n .     path <- enc2utf8(path)\n .     p <- split_path_ext(basename_utf8(path))\n .     if (write) {\n .         path <- normalizePath_utf8(path, mustWork = FALSE)\n .     }\n .     else {\n .         path <- check_path(path)\n .     }\n .     if (is_installed(\"archive\")) {\n .         formats <- archive_formats(p$extension)\n .         extension <- p$extension\n .         while (is.null(formats) && nzchar(extension)) {\n .             extension <- split_path_ext(extension)$extension\n .             formats <- archive_formats(extension)\n .         }\n .         if (!is.null(formats)) {\n .             p$extension <- extension\n .             if (write) {\n .                 if (is.null(formats[[1]])) {\n .                   return(archive::file_write(path, filter = formats[[2]]))\n .                 }\n .                 return(archive::archive_write(path, p$path, format = formats[[1]], \n .                   filter = formats[[2]]))\n .             }\n .             if (is.null(formats[[1]])) {\n .                 return(archive::file_read(path, filter = formats[[2]]))\n .             }\n .             return(archive::archive_read(path, format = formats[[1]], \n .                 filter = formats[[2]]))\n .         }\n .     }\n .     if (!write) {\n .         compression <- detect_compression(path)\n .     }\n .     else {\n .         compression <- NA\n .     }\n .     if (is.na(compression)) {\n .         compression <- tools::file_ext(path)\n .     }\n .     if (write && compression == \"zip\") {\n .         stop(\"Can only read from, not write to, .zip\", call. = FALSE)\n .     }\n .     switch(compression, gz = gzfile(path, \"\"), bz2 = bzfile(path, \n .         \"\"), xz = xzfile(path, \"\"), zip = zipfile(path, \"\"), \n .         if (!has_trailing_newline(path)) {\n .             file(path)\n .         } else {\n .             path\n .         })\n . })(\"data/adult.csv\")",
      "5. check_path(path)",
      "6. stop(\"'\", path, \"' does not exist\", if (!is_absolute_path(path)) {\n .     paste0(\" in current working directory ('\", getwd(), \"')\")\n . }, \".\", call. = FALSE)"
     ]
    }
   ],
   "source": [
    "adult_df <- read_csv(\"data/adult.csv\")\n",
    "\n",
    "head(adult_df)\n",
    "dim(adult_df)"
   ]
  },
  {
   "cell_type": "code",
   "execution_count": null,
   "id": "a0bd6e5e-cf40-4701-9a41-1dd7773cfda9",
   "metadata": {},
   "outputs": [],
   "source": [
    "summary(adult_df)"
   ]
  },
  {
   "cell_type": "code",
   "execution_count": null,
   "id": "ce6fb96f-3347-47da-888e-1a4bf85a8452",
   "metadata": {},
   "outputs": [],
   "source": [
    "colSums(is.na(adult_df))"
   ]
  },
  {
   "cell_type": "code",
   "execution_count": null,
   "id": "6a248dd7-651a-4026-9b95-e0c4e0c5766c",
   "metadata": {},
   "outputs": [],
   "source": [
    "colSums(adult_df==\"?\")"
   ]
  },
  {
   "cell_type": "markdown",
   "id": "7412fce1-8f51-4643-af5d-294e2e509eba",
   "metadata": {},
   "source": [
    "It seems like there are missing values in workclass, occupation and the native country values. We can input the correct ratio of the categorical variables to ensure we maintain the spread of the data, thus using proportional imputation."
   ]
  },
  {
   "cell_type": "code",
   "execution_count": null,
   "id": "60c03c5f-eaee-4459-92a6-24a347b4386c",
   "metadata": {},
   "outputs": [],
   "source": [
    "fill_with_proportion <- function(column) \n",
    "{\n",
    "  non_missing <- column[column != \"?\"]\n",
    "  value_counts <- table(non_missing)\n",
    "  proportions <- prop.table(value_counts)\n",
    "  \n",
    "  column[column == \"?\"] <- sample(names(proportions), sum(column == \"?\"), replace = TRUE, prob = proportions)\n",
    "  \n",
    "  return(column)\n",
    "}\n",
    "\n",
    "adult_df$workclass <- fill_with_proportion(adult_df$workclass)\n",
    "adult_df$occupation <- fill_with_proportion(adult_df$occupation)\n",
    "adult_df$native.country <- fill_with_proportion(adult_df$native.country)\n",
    "\n",
    "colSums(adult_df==\"?\")"
   ]
  },
  {
   "cell_type": "markdown",
   "id": "b7d09ddb-db6e-4095-947e-de639d00038b",
   "metadata": {},
   "source": [
    "Now, we should check for duplicate rows."
   ]
  },
  {
   "cell_type": "code",
   "execution_count": null,
   "id": "c1f9e157-d45e-4dfc-aa85-9d6600c33cf6",
   "metadata": {},
   "outputs": [],
   "source": [
    "duplicates <- adult_df[duplicated(adult_df), ]\n",
    "\n",
    "if (nrow(duplicates) > 0) {\n",
    "  print(duplicates)\n",
    "} else {\n",
    "  print(\"No duplicate rows found.\")\n",
    "}"
   ]
  },
  {
   "cell_type": "markdown",
   "id": "07610ab3-30ae-48af-a3c9-e3dace315656",
   "metadata": {},
   "source": [
    "Seems like there are 24 rows of duplicated data. This may be an input error from employees doing data entry or the system having errors. We will remove all of them."
   ]
  },
  {
   "cell_type": "code",
   "execution_count": null,
   "id": "1bc38659-64ae-4605-ad35-c4a2c2158f77",
   "metadata": {},
   "outputs": [],
   "source": [
    "adult_df <- distinct(adult_df)\n",
    "dim(adult_df)"
   ]
  },
  {
   "cell_type": "code",
   "execution_count": null,
   "id": "63cfc14a-f195-4372-b924-218499fc29d3",
   "metadata": {},
   "outputs": [],
   "source": []
  },
  {
   "cell_type": "markdown",
   "id": "80455f8e-5b7e-43aa-b7cf-2fc5430c62eb",
   "metadata": {},
   "source": [
    "Now, we are ready to do EDA on this dataset."
   ]
  },
  {
   "cell_type": "markdown",
   "id": "d873f424-458d-4434-818d-7bb62422cc9f",
   "metadata": {},
   "source": [
    "### EDA"
   ]
  },
  {
   "cell_type": "code",
   "execution_count": null,
   "id": "48b29cd3-1d6f-4502-8048-b7dc265c0633",
   "metadata": {},
   "outputs": [],
   "source": [
    "income_sex_barplot <- ggplot(adult_df, aes(x = sex, fill = income)) +\n",
    "                      geom_bar(position = \"dodge\") +\n",
    "                      labs(title = \"Income Distribution by Gender\", x = \"Gender\", y = \"Count\") \n",
    "\n",
    "income_sex_barplot"
   ]
  },
  {
   "cell_type": "markdown",
   "id": "52d8b0df-b551-4902-8ace-b2c04fbd7cee",
   "metadata": {},
   "source": [
    "It appears that a larger proportion of males earn more than $50K compared to females. In addition, females have a higher count in the <=50K income category than in the >50K category, suggesting a difference in ratio."
   ]
  },
  {
   "cell_type": "code",
   "execution_count": null,
   "id": "64b8a32b-c24d-4db1-8b3e-59509396bdec",
   "metadata": {},
   "outputs": [],
   "source": [
    "adult_df_proportions <- adult_df |>\n",
    "  group_by(occupation, sex, income) |>\n",
    "  summarise(count = n(), .groups = 'drop') |>\n",
    "  mutate(proportion = count / sum(count))\n",
    "\n",
    "occupation_sex_income_plot <- ggplot(adult_df_proportions, aes(x = occupation, y = proportion, fill = income)) +\n",
    "                              geom_bar(stat = \"identity\", position = \"dodge\") +\n",
    "                              facet_wrap(~sex) +\n",
    "                              labs(title = \"Income Distribution by Occupation and Gender\", x = \"Occupation\", y = \"Count\") +\n",
    "                              theme(axis.text.x = element_text(angle = 45, hjust = 1))\n",
    "occupation_sex_income_plot"
   ]
  },
  {
   "cell_type": "markdown",
   "id": "b807bf6a-ffde-4e95-af98-e9c82a865618",
   "metadata": {},
   "source": [
    "This bar graph shows the distribution of income through different occupations between male and female individuals. Males tend to have a higher proportion of individuals earning more than 50K compared to females across most occupations such as \"Exec-managerial\". This suggests potential gender disparities in income. In addition, there are some occupations like \"Handlers-cleaners,\" \"Other-service,\" and \"Priv-house-serv\" have a predominantly larger proportion of individuals earning less than 50K for both genders. We need to examine more relationships between men and women income levels."
   ]
  },
  {
   "cell_type": "code",
   "execution_count": null,
   "id": "b8dbcab9-2971-407b-8ebb-c7541a301ca5",
   "metadata": {},
   "outputs": [],
   "source": [
    "hours_per_week_sex_plot <- ggplot(adult_df, aes(x = income, y = hours.per.week)) +\n",
    "                           geom_boxplot() +\n",
    "                           labs(title = \"Hours Per Week based on Income and Gender\", x =\"Income Level\", y = \"Hours Per Week\") +\n",
    "                           facet_wrap(~sex) \n",
    "hours_per_week_sex_plot             "
   ]
  },
  {
   "cell_type": "code",
   "execution_count": null,
   "id": "00a8687c-e7a4-49bf-bfc9-594132f0721c",
   "metadata": {},
   "outputs": [],
   "source": [
    "adult_df <- adult_df %>%\n",
    "  mutate(education = fct_relevel(education, \n",
    "                                 \"Preschool\", \"1st-4th\", \"5th-6th\", \"7th-8th\", \n",
    "                                 \"9th\", \"10th\", \"11th\", \"12th\", \"HS-grad\", \n",
    "                                 \"Some-college\", \"Assoc-acdm\", \"Assoc-voc\", \n",
    "                                 \"Bachelors\", \"Masters\", \"Doctorate\"))\n",
    "\n",
    "education_sex_income_plot <- ggplot(adult_df, aes(x = education, fill = income)) +\n",
    "                              geom_bar(position = \"dodge\") +\n",
    "                              facet_wrap(~sex) +\n",
    "                              labs(title = \"Income Distribution by Education and Gender\", x = \"Education\", y = \"Count\") +\n",
    "                              theme(axis.text.x = element_text(angle = 45, hjust = 1))\n",
    "education_sex_income_plot"
   ]
  },
  {
   "cell_type": "markdown",
   "id": "1234e84a-ee47-4c8d-a631-22bb97dd9c00",
   "metadata": {},
   "source": [
    "It seems for education, it looks around the same for both female and male bar graphs where we can see a trend where the higher the education level, the higher the proportions there is for 50k or greater income levels. "
   ]
  },
  {
   "cell_type": "markdown",
   "id": "37a67568-402e-4304-9126-3f4093b83269",
   "metadata": {},
   "source": [
    "### Methods and Plan"
   ]
  },
  {
   "cell_type": "markdown",
   "id": "42f23912-e1b8-4ef4-85d9-62336dddff0a",
   "metadata": {},
   "source": [
    "Before proprosing a model, we would first remove repetitive features that represent very identical factors to predict our response variable. For example, we have education and education level which, if we add both variables to our model, will only introduce more noise than predictive power. In addition, we know these two features have multicollinearity, thus removing one of them would be good. \n",
    "\n",
    "For our analysis of the Adult Census Income dataset, I propose using a Logistic Regression model to predict whether an individual's income exceeds $50K annually. Logistic regression is a robust and interpretable method for binary classification tasks, aligning well with our target variable, which has two categories: <=50K and >50K. \n",
    "\n",
    "#### Why This Method Is Appropriate\n",
    "\n",
    "The target variable is binary, and logistic regression is designed to model the probability of an outcome as a function of explanatory variables. It allows us to interpret the relationship between predictor variables (e.g., age, hours.per.week, occupation) and the odds of earning more than $50K. Logistic regression is computationally efficient and scalable for a dataset of this size, which contains over 30,000 observations.\n",
    "\n",
    "\n",
    "#### Variable Selection Method: Backward Selection\n",
    "\n",
    "To select the most relevant predictors for the model, I propose using Backward Selection. This approach starts with all potential explanatory variables included in the model. Variables are removed one at a time based on a criterion such as p-values, until the best-fitting model is achieved. Below are reasons why backward selection is appropriate:\n",
    "\n",
    "1. Exploratory Dataset: Backward selection is useful when starting with all variables makes sense, as we want to explore which predictors do not contribute significantly to the model.\n",
    "2. Handling Redundancy: Backward selection helps identify and remove irrelevant or redundant predictors that may dilute the model’s accuracy or interpretability.\n",
    "3. Simplicity: By iteratively reducing the number of variables, backward selection ensures the final model is parsimonious without overlooking complex interactions.\n",
    "\n",
    "#### Assumptions of Logistic Regression\n",
    "\n",
    "1. Binary Response: The response variable is dichotomous (two possible responses) or the sum of dichotomous responses.\n",
    "2. Independence: The observations must be independent of one another.\n",
    "3. Variance Structure: As response is biomial, the variance is np * (1 - p) by definition and the highest variance it can reach is when p = 0.5.\n",
    "4. Linearity: The log odds $(\\frac{p}{1 - p})$ must be a linear function of the predictor\n",
    "\n",
    "\n",
    "#### Potential Limitations of the method itself\n",
    "\n",
    "1. Computational Cost: Backward selection can be computationally expensive for datasets with many predictors, as it starts with all variables.\n",
    "2. Risk of Overfitting: Removing variables based on p-values or AIC alone might lead to overfitting, especially in small samples.\n",
    "3. Missed Interactions: Backward selection does not automatically explore variable interactions, which may reduce model performance.\n",
    "\n"
   ]
  },
  {
   "cell_type": "markdown",
   "id": "d5720912-75fd-4b51-b992-d057038f580e",
   "metadata": {},
   "source": [
    "### Implementation of the Proposed Model"
   ]
  },
  {
   "cell_type": "code",
   "execution_count": null,
   "id": "45022ff4-3f6e-4e3c-86f5-3d36ec1abd31",
   "metadata": {},
   "outputs": [],
   "source": [
    "head(adult_df)"
   ]
  },
  {
   "cell_type": "markdown",
   "id": "2de7592f-d190-4c9d-8c83-a9f1205b2ae4",
   "metadata": {},
   "source": [
    "Removing these Features: \n",
    "\n",
    "- fnlwgt: I personaly do not know how they calculate this feature and in additon, it is not a characteristic of individuals but rather reflects sampling probabilities or demographic weights thus does not have a direct relationship with an individual's income level.\n",
    "- education.num: We already have education, thus, this feature would just introduce noise to the model\n",
    "- race: It might introduce ethical concerns or bias in the model which we do not want our model to be trained on."
   ]
  },
  {
   "cell_type": "code",
   "execution_count": null,
   "id": "2b9594db-773c-4f0b-8161-d0ff6d979c25",
   "metadata": {},
   "outputs": [],
   "source": [
    "adult_df <- adult_df |>\n",
    "select(-fnlwgt, -education.num, -race)"
   ]
  },
  {
   "cell_type": "code",
   "execution_count": null,
   "id": "b5d54a97-4bdb-4660-bf7c-a8b437bf6c7e",
   "metadata": {},
   "outputs": [],
   "source": [
    "adult_df$income <- ifelse(adult_df$income == \">50K\", 1, 0)\n",
    "\n",
    "head(adult_df)"
   ]
  },
  {
   "cell_type": "markdown",
   "id": "95570f7a-92fc-4307-9c65-19488bcf953f",
   "metadata": {},
   "source": [
    "#### Splitting the dataset into train and testing portions"
   ]
  },
  {
   "cell_type": "code",
   "execution_count": null,
   "id": "9c6f4224-e88d-4e26-b346-16297278f322",
   "metadata": {},
   "outputs": [],
   "source": [
    "set.seed(123)\n",
    "\n",
    "adult_df$income <- as.factor(adult_df$income)\n",
    "\n",
    "unique_levels <- sapply(adult_df, function(x) length(unique(x)))\n",
    "print(unique_levels)\n",
    "\n",
    "\n",
    "adult_df <- adult_df[, unique_levels > 1]\n",
    "\n",
    "training_adult <- adult_df %>%\n",
    "  sample_frac(0.6)\n",
    "\n",
    "testing_adult <- adult_df %>%\n",
    "  setdiff(training_adult)"
   ]
  },
  {
   "cell_type": "markdown",
   "id": "0c3ade5e-c3b6-4a8b-8862-fe9b673496bb",
   "metadata": {},
   "source": [
    "#### Backward Selection"
   ]
  },
  {
   "cell_type": "code",
   "execution_count": null,
   "id": "df6995aa-b5c5-44b0-ab6e-38b9af1cd8d4",
   "metadata": {},
   "outputs": [],
   "source": [
    "adult_backward_sel <- regsubsets(\n",
    "  x = income ~ .,                \n",
    "  data = training_adult,           \n",
    "  nvmax = ncol(training_adult) - 1,                    \n",
    "  method = \"backward\"             \n",
    ")\n",
    "\n",
    "adult_backward_summary <- summary(adult_backward_sel)\n",
    "best_model_size <- which.max(adult_backward_summary$adjr2)\n",
    "\n",
    "best_model_coefs <- coef(adult_backward_sel, id = best_model_size)\n",
    "\n",
    "best_model_coefs_df <- as.data.frame(best_model_coefs)\n",
    "colnames(best_model_coefs_df) <- \"Coefficient\"\n",
    "\n",
    "cat(\"Coefficients for the best model:\\n\")\n",
    "print(best_model_coefs_df)"
   ]
  },
  {
   "cell_type": "markdown",
   "id": "2d4aa6c4-7fa3-4f97-9f44-537a16db4da3",
   "metadata": {},
   "source": [
    "#### Logistic Regression"
   ]
  },
  {
   "cell_type": "code",
   "execution_count": null,
   "id": "1a50895c-6ef5-4305-9ce6-49d141924b04",
   "metadata": {},
   "outputs": [],
   "source": [
    "final_predictors <- make.names(names(best_model_coefs)[-1])\n",
    "final_predictors"
   ]
  },
  {
   "cell_type": "markdown",
   "id": "69cc0830-0c35-45ee-8991-9d8eafd500f1",
   "metadata": {},
   "source": [
    "Since we see parts of education, occupation, relationship and capital gain and capital loss to be the most important variables, we will use them for our final model. An interesting observation as well is that sex is not a part of the most important variable."
   ]
  },
  {
   "cell_type": "code",
   "execution_count": null,
   "id": "5eed7653-f684-40b1-9aff-b6f9314df8c1",
   "metadata": {},
   "outputs": [],
   "source": [
    "final_model <- glm(income ~ education + marital.status +  occupation + relationship + capital.gain + capital.loss, data = training_adult, family = binomial)"
   ]
  },
  {
   "cell_type": "markdown",
   "id": "99726de4-4ef0-4c30-bdc8-b1ceeff29eb4",
   "metadata": {},
   "source": [
    "summary(final_model)"
   ]
  },
  {
   "cell_type": "code",
   "execution_count": null,
   "id": "6cc8f567-b488-4bbc-8699-30f72d2b93d4",
   "metadata": {},
   "outputs": [],
   "source": [
    "predicted_probs <- predict(final_model, newdata = testing_adult, type = \"response\")\n",
    "\n",
    "# Convert probabilities to class predictions (threshold = 0.5)\n",
    "predicted_classes <- ifelse(predicted_probs > 0.5, 1, 0)\n",
    "\n",
    "# Create a confusion matrix\n",
    "confusion_matrix <- table(Actual = testing_adult$income, Predicted = predicted_classes)\n",
    "cat(\"Confusion Matrix:\\n\")\n",
    "print(confusion_matrix)\n",
    "\n",
    "# Calculate accuracy\n",
    "accuracy <- sum(diag(confusion_matrix)) / sum(confusion_matrix)\n",
    "cat(\"Accuracy:\", round(accuracy, 4), \"\\n\")"
   ]
  },
  {
   "cell_type": "markdown",
   "id": "23a8686c-d7c4-478e-9d86-1da1ad9e9fa6",
   "metadata": {},
   "source": [
    "## Discussion(initial)"
   ]
  },
  {
   "cell_type": "markdown",
   "id": "81f505d6-d5f2-4fad-a26b-0e57ace9ea37",
   "metadata": {},
   "source": [
    "This project looked at whether there are income differences between men and women and how factors like job type and hours worked per week play a role. Using a logistic regression model, we found that factors such as education level, marital status, job type, relationship status, capital gains, and capital losses were the most important predictors of income (>50K). Surprisingly, gender itself wasn’t one of the key factors in the final model.\n",
    "\n",
    "Our initial analysis showed that men are more likely to earn over $50K than women. However, when other factors like education and job type were considered, gender’s influence on income became less important. This suggests that income differences might be more about structural issues, like the kinds of jobs or education levels people have, rather than gender alone.\n",
    "\n",
    "The model had an accuracy of 83.32%, meaning it performed well in predicting income. However, some issues, like imbalanced data (more people earning less than $50K) and extreme values in capital gains and losses, might have affected the results. Improving the model by adding interactions between variables or trying other methods like random forests could make it better.\n",
    "\n",
    "Future studies could explore why certain jobs or education levels have such a big impact on income. Adding more data about workplace policies or cultural factors could also help us understand income differences better. These findings are a step toward identifying ways to reduce income inequalities."
   ]
  },
  {
   "cell_type": "code",
   "execution_count": null,
   "id": "8a81ffd1-52b6-41f7-a411-b92b2f9243cc",
   "metadata": {},
   "outputs": [],
   "source": []
  }
 ],
 "metadata": {
  "kernelspec": {
   "display_name": "R",
   "language": "R",
   "name": "ir"
  },
  "language_info": {
   "codemirror_mode": "r",
   "file_extension": ".r",
   "mimetype": "text/x-r-source",
   "name": "R",
   "pygments_lexer": "r",
   "version": "4.3.3"
  }
 },
 "nbformat": 4,
 "nbformat_minor": 5
}
